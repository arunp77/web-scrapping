{
 "cells": [
  {
   "cell_type": "markdown",
   "metadata": {},
   "source": [
    "# Techniques of Webscraping with Python \n",
    "### From BeautifulSoup to Selenium\n",
    "\n",
    "Certainly! When it comes to web scraping with Python, BeautifulSoup and Selenium are commonly used tools. Here's a brief overview of using them:\n",
    "\n",
    "1. **Beautiful Soup:**\n",
    "   - **Purpose:** BeautifulSoup is used for parsing HTML and extracting information from web pages.\n",
    "   - **Installation:** You can install it using `pip install beautifulsoup4`.\n",
    "   - **Example:**\n",
    "     ```python\n",
    "     from bs4 import BeautifulSoup\n",
    "     import requests\n",
    "\n",
    "     url = 'your_target_url'\n",
    "     response = requests.get(url)\n",
    "     soup = BeautifulSoup(response.text, 'html.parser')\n",
    "\n",
    "     # Extracting data\n",
    "     title = soup.title.text\n",
    "     ```\n",
    "\n",
    "2. **Selenium:**\n",
    "   - **Purpose:** Selenium is used for browser automation, which is useful when a website relies heavily on JavaScript.\n",
    "   - **Installation:** You can install it using `pip install selenium`.\n",
    "   - **Example:**\n",
    "     ```python\n",
    "     from selenium import webdriver\n",
    "\n",
    "     # Set up the WebDriver (e.g., Chrome)\n",
    "     driver = webdriver.Chrome(executable_path='path_to_chromedriver')\n",
    "\n",
    "     # Open a website\n",
    "     driver.get('your_target_url')\n",
    "\n",
    "     # Extracting data (after the page has loaded, if it has dynamic content)\n",
    "     element = driver.find_element_by_css_selector('your_css_selector')\n",
    "     data = element.text\n",
    "     ```\n",
    "\n",
    "\n",
    "\n",
    "### The BeautifulSoup Library\n",
    "\n",
    "`BeautifulSoup` is a parsing library that extracts the HTML content of a web page, retrieves the interesting data and extracts it into a suitable format.\n",
    "\n",
    "One of the great things about BeautifulSoup is its ease of use. Indeed, a few lines of code are enough to create a scraper and the library benefits from clear and complete documentation. It is for these and other reasons that `BeautifulSoup` is popular with developers.\n",
    "\n",
    "However, this library also has significant drawbacks:\n",
    "\n",
    "- the scraping method with `BeautifulSoup` uses other libraries (like urllib for example) and therefore requires dependencies.\n",
    "- this package does not allow to perform Dynamic Webscraping. More and more Web pages today have JavaScript within their HTML source code to give dynamism (widgets) and interaction with the user (clicks using of the mouse, use of the keyboard, etc.). The BeautifulSoup library is not able to interpret the JavaScript.\n",
    "  \n",
    "The use of this library is therefore recommended for the recovery of a large load of data on static Web sites.\n",
    "\n",
    "### The Selenium Library\n",
    "\n",
    "`Selenium` is a library that allows you to control a browser (Chrome, Internet Explorer, Firefox, Safari,...) automatically through a series of programs. Originally created to perform automated web testing, this package is also used for webscraping due to its compatibility with JavaScript. This strong point makes it a real alternative to BeautifulSoup for dynamic web pages, which are more and more prevalent.\n",
    "\n",
    "On the other hand, the use of Selenium generates a major constraint: the automated control of browsers requires a lot of resources, thus reducing the efficiency and the speed of execution compared to a library like BeautifulSoup.\n",
    "\n",
    "The use of `Selenium` is therefore recommended (even essential) for Web sites involving JavaScript but is not recommended for recovering a large load of data."
   ]
  },
  {
   "cell_type": "markdown",
   "metadata": {},
   "source": [
    "- **Run the next cell.**"
   ]
  },
  {
   "cell_type": "code",
   "execution_count": 1,
   "metadata": {},
   "outputs": [
    {
     "data": {
      "text/plain": [
       "'y u bad tho?'"
      ]
     },
     "execution_count": 1,
     "metadata": {},
     "output_type": "execute_result"
    }
   ],
   "source": [
    "import bs4 as bs\n",
    "import urllib.request\n",
    "\n",
    "source = urllib.request.urlopen('https://pythonprogramming.net/parsememcparseface/')\n",
    "soup = bs.BeautifulSoup(source, 'lxml')\n",
    "\n",
    "js_test= soup.find('p', class_ = 'jstest')\n",
    "js_test.text\n"
   ]
  },
  {
   "cell_type": "markdown",
   "metadata": {},
   "source": [
    "> Returned text is not 'Look at you shinin!' but 'y u bad tho?'. Let's take a closer look at the html code of the Web page contained in the soup variable.\n",
    ">\n",
    "- **Execute the following cell then search, using the shortcut CTRL + F, the word \"jstest\".**"
   ]
  },
  {
   "cell_type": "code",
   "execution_count": 2,
   "metadata": {},
   "outputs": [
    {
     "data": {
      "text/plain": [
       "<html>\n",
       "<head>\n",
       "<!--\n",
       "\t\tpalette:\n",
       "\t\tdark blue: #003F72\n",
       "\t\tyellow: #FFD166\n",
       "\t\tsalmon: #EF476F\n",
       "\t\toffwhite: #e7d7d7\n",
       "\t\tLight Blue: #118AB2\n",
       "\t\tLight green: #7DDF64\n",
       "\t\t-->\n",
       "<meta content=\"width=device-width, initial-scale=1.0\" name=\"viewport\"/>\n",
       "<title>Python Programming Tutorials</title>\n",
       "<meta content=\"Python Programming tutorials from beginner to advanced on a massive variety of topics. All video and text tutorials are free.\" name=\"description\"/>\n",
       "<link href=\"/static/favicon.ico\" rel=\"shortcut icon\"/>\n",
       "<link href=\"/static/css/materialize.min.css\" rel=\"stylesheet\"/>\n",
       "<link href=\"https://fonts.googleapis.com/icon?family=Material+Icons\" rel=\"stylesheet\"/>\n",
       "<meta content=\"3fLok05gk5gGtWd_VSXbSSSH27F2kr1QqcxYz9vYq2k\" name=\"google-site-verification\"/>\n",
       "<link href=\"/static/css/bootstrap.css\" rel=\"stylesheet\" type=\"text/css\"/>\n",
       "<!-- Compiled and minified CSS -->\n",
       "<!-- Compiled and minified JavaScript -->\n",
       "<script src=\"https://code.jquery.com/jquery-2.1.4.min.js\"></script>\n",
       "<script src=\"https://cdnjs.cloudflare.com/ajax/libs/materialize/0.97.3/js/materialize.min.js\"></script>\n",
       "<style>\n",
       "\t\t@media (min-width:992px) {\n",
       "\t\t#aside {\n",
       "\t\t\twidth:250px;\n",
       "\t\t}\n",
       "\t\tpre { tab-size: 4;}\n",
       "\t\t.btn {background-color:#FFD166;\n",
       "\t\t\t  color:#000;\n",
       "\t\t      height:auto;\n",
       "\t\t\t  font-color:#000;\n",
       "\t\t\t  }\n",
       "\t\t.btn:hover {background-color:#FFD166;\n",
       "\t\t\t\t\t}\n",
       "\n",
       "\n",
       "\t\t</style>\n",
       "<!-- Google Tracking -->\n",
       "<script>\n",
       "\t\t\t  (function(i,s,o,g,r,a,m){i['GoogleAnalyticsObject']=r;i[r]=i[r]||function(){\n",
       "\t\t\t  (i[r].q=i[r].q||[]).push(arguments)},i[r].l=1*new Date();a=s.createElement(o),\n",
       "\t\t\t  m=s.getElementsByTagName(o)[0];a.async=1;a.src=g;m.parentNode.insertBefore(a,m)\n",
       "\t\t\t  })(window,document,'script','//www.google-analytics.com/analytics.js','ga');\n",
       "              ga('config', 'UA-51891827-1', {'anonymize_ip': true});﻿\n",
       "\t\t\t  ga('create', 'UA-51891827-1', 'auto');\n",
       "\t\t\t  ga('send', 'pageview');\n",
       "\n",
       "\t\t</script>\n",
       "<script async=\"\" src=\"//pagead2.googlesyndication.com/pagead/js/adsbygoogle.js\"></script>\n",
       "<script>\n",
       "                         (adsbygoogle = window.adsbygoogle || []).push({\n",
       "                              google_ad_client: \"ca-pub-1579050400541873\",\n",
       "                              enable_page_level_ads: true\n",
       "                         });\n",
       "                    </script>\n",
       "</head>\n",
       "<body>\n",
       "<div class=\"navbar-fixed\">\n",
       "<nav style=\"background-color:#003F72\">\n",
       "<div class=\"nav-wrapper container\">\n",
       "<a class=\"brand-logo\" href=\"/\"><img class=\"img-responsive\" src=\"/static/images/mainlogowhitethick.jpg\" style=\"width:50px; height;50px; margin-top:5px\"/></a>\n",
       "<a class=\"button-collapse\" data-activates=\"navsidebar\" href=\"#\"><i class=\"mdi-navigation-menu\"></i></a>\n",
       "<ul class=\"right hide-on-med-and-down\">\n",
       "<li><i class=\"material-icons\">search</i></li>\n",
       "<li>\n",
       "<form action=\"/search/?l=hi\" id=\"searchform\" method=\"get\" style=\"height:50px; padding-top:10px\">\n",
       "<input id=\"search\" name=\"q\" placeholder=\"search\" style=\"font-size:16px\" type=\"search\"/>\n",
       "</form>\n",
       "</li>\n",
       "<li><a href=\"/\">Home</a></li>\n",
       "<li><a class=\"tooltipped\" data-delay=\"50\" data-position=\"bottom\" data-tooltip=\"sudo apt-get upgrade\" href=\"/+=1/\">+=1</a></li>\n",
       "<!--<li><a href=\"/store/python-hoodie/\">Store</a></li>-->\n",
       "<li><a href=\"/support/\">Support the Content</a></li>\n",
       "<li><a href=\"https://goo.gl/7zgAVQ\" target=\"blank\"><!--<i class=\"material-icons\">question_answer</i>-->Community</a></li>\n",
       "<li><a href=\"/login/\">Log in</a></li>\n",
       "<li><a href=\"/register/\">Sign up</a></li>\n",
       "</ul>\n",
       "<ul class=\"side-nav\" id=\"navsidebar\">\n",
       "<li>\n",
       "<form action=\"/search/?l=hi\" id=\"searchform\" method=\"get\" style=\"height:50px; padding-top:10px\">\n",
       "<input id=\"search\" name=\"q\" placeholder=\"search\" style=\"font-size:16px\" type=\"search\"/>\n",
       "</form>\n",
       "</li>\n",
       "<li><a href=\"/\">Home</a></li>\n",
       "<li><a class=\"tooltipped\" data-delay=\"50\" data-position=\"bottom\" data-tooltip=\"sudo apt-get upgrade\" href=\"/+=1/\">+=1</a></li>\n",
       "<!--<li><a href=\"/store/python-hoodie/\">Store</a></li>-->\n",
       "<li><a href=\"/support/\">Support the Content</a></li>\n",
       "<li><a href=\"https://goo.gl/7zgAVQ\" target=\"blank\"><!--<i class=\"material-icons\">question_answer</i>-->Community</a></li>\n",
       "<li><a href=\"/login/\">Log in</a></li>\n",
       "<li><a href=\"/register/\">Sign up</a></li>\n",
       "</ul>\n",
       "</div>\n",
       "</nav>\n",
       "</div>\n",
       "<!-- main content -->\n",
       "<div class=\"container\" style=\"max-width:1500px; min-height:100%\">\n",
       "<!--Notification:-->\n",
       "<!--<p style=\"font-size:80%\">TensorFlow.js Livestream:  <a href=\"https://www.youtube.com/watch?v=NjSlj95lliM\" target=\"blank\"><strong>Deep Learning in the browser</strong></a></p>-->\n",
       "<!--End Notification:-->\n",
       "<div class=\"body\">\n",
       "<p class=\"introduction\">Oh, hello! This is a <span style=\"font-size:115%\">wonderful</span> page meant to let you practice web scraping. This page was originally created to help people work with the <a href=\"https://www.crummy.com/software/BeautifulSoup/bs4/doc/\" target=\"blank\"><strong>Beautiful Soup 4</strong></a> library.</p>\n",
       "<p>The following table gives some general information for the following <code>programming languages</code>:</p>\n",
       "<ul>\n",
       "<li>Python</li>\n",
       "<li>Pascal</li>\n",
       "<li>Lisp</li>\n",
       "<li>D#</li>\n",
       "<li>Cobol</li>\n",
       "<li>Fortran</li>\n",
       "<li>Haskell</li>\n",
       "</ul>\n",
       "<table style=\"width:100%\">\n",
       "<tr>\n",
       "<th>Program Name</th>\n",
       "<th>Internet Points</th>\n",
       "<th>Kittens?</th>\n",
       "</tr>\n",
       "<tr>\n",
       "<td>Python</td>\n",
       "<td>932914021</td>\n",
       "<td>Definitely</td>\n",
       "</tr>\n",
       "<tr>\n",
       "<td>Pascal</td>\n",
       "<td>532</td>\n",
       "<td>Unlikely</td>\n",
       "</tr>\n",
       "<tr>\n",
       "<td>Lisp</td>\n",
       "<td>1522</td>\n",
       "<td>Uncertain</td>\n",
       "</tr>\n",
       "<tr>\n",
       "<td>D#</td>\n",
       "<td>12</td>\n",
       "<td>Possibly</td>\n",
       "</tr>\n",
       "<tr>\n",
       "<td>Cobol</td>\n",
       "<td>3</td>\n",
       "<td>No.</td>\n",
       "</tr>\n",
       "<tr>\n",
       "<td>Fortran</td>\n",
       "<td>52124</td>\n",
       "<td>Yes.</td>\n",
       "</tr>\n",
       "<tr>\n",
       "<td>Haskell</td>\n",
       "<td>24</td>\n",
       "<td>lol.</td>\n",
       "</tr>\n",
       "</table>\n",
       "<p>I think it's clear that, on a scale of 1-10, python is:</p>\n",
       "<div class=\"card hoverable\">\n",
       "<div class=\"card-content\">\n",
       "<div class=\"card-title\"></div>\n",
       "<img alt=\"omg batman\" class=\"responsive-img\" src=\"https://s-media-cache-ak0.pinimg.com/originals/e8/2a/ff/e82aff2876b080675449d0cef7685321.jpg\"/>\n",
       "</div>\n",
       "</div>\n",
       "<p>Javascript (dynamic data) test:</p>\n",
       "<p class=\"jstest\" id=\"yesnojs\">y u bad tho?</p>\n",
       "<script>\n",
       "     document.getElementById('yesnojs').innerHTML = 'Look at you shinin!';\n",
       "  </script>\n",
       "<br/><br/>\n",
       "<pre>Beautiful is better than ugly.\n",
       "Explicit is better than implicit.\n",
       "Simple is better than complex.\n",
       "Complex is better than complicated.\n",
       "Flat is better than nested.\n",
       "Sparse is better than dense.\n",
       "Readability counts.\n",
       "Special cases aren't special enough to break the rules.\n",
       "Although practicality beats purity.\n",
       "Errors should never pass silently.\n",
       "Unless explicitly silenced.\n",
       "In the face of ambiguity, refuse the temptation to guess.\n",
       "There should be one-- and preferably only one --obvious way to do it.\n",
       "Although that way may not be obvious at first unless you're Dutch.\n",
       "Now is better than never.\n",
       "Although never is often better than *right* now.\n",
       "If the implementation is hard to explain, it's a bad idea.\n",
       "If the implementation is easy to explain, it may be a good idea.\n",
       "Namespaces are one honking great idea -- let's do more of those!</pre>\n",
       "<p>Whᶐt hαppéns now¿</p>\n",
       "<p><a href=\"/sitemap.xml\" target=\"blank\"><strong>sitemap</strong></a></p>\n",
       "</div></div></body>\n",
       "<!--login modal-->\n",
       "<!--Register modal-->\n",
       "<script>\n",
       "\t\t\t$(document).ready(function(){\n",
       "\t\t\t\t$(\".button-collapse\").sideNav();\n",
       "\t\t\t\t$('.modal-trigger').leanModal();\n",
       "\t\t\t\t$('.collapsible').collapsible({\n",
       "\t\t\t\t  accordion : false // A setting that changes the collapsible behavior to expandable instead of the default accordion style\n",
       "\t\t\t\t});\n",
       "\t\t\t\t$('#aside').pushpin({ top:110, bottom:500 });\n",
       "\t\t  });\n",
       "\t\t</script>\n",
       "<script>\n",
       "\t\t  $(document).ready(function(){\n",
       "\t\t\t$('.collapsible').collapsible({\n",
       "\t\t\t  accordion : false // A setting that changes the collapsible behavior to expandable instead of the default accordion style\n",
       "\t\t\t});\n",
       "\t\t\t$('select').material_select();\n",
       "\t\t  });\n",
       "\t  </script>\n",
       "<script>\n",
       "\t\tfunction goBack() {\n",
       "\t\t\twindow.history.back()\n",
       "\t\t}\n",
       "\t</script>\n",
       "<script src=\"/static/js/run_prettify.js\" type=\"text/javascript\"></script>\n",
       "<footer class=\"page-footer\">\n",
       "<div class=\"container\">\n",
       "<div class=\"row\">\n",
       "<div class=\"col l6 s12\">\n",
       "<h5 class=\"white-text\">You've reached the end!</h5>\n",
       "<p class=\"grey-text text-lighten-4\">Contact: Harrison@pythonprogramming.net.</p>\n",
       "<ul>\n",
       "<li><a class=\"grey-text text-lighten-3\" href=\"/support-donate/\">Support this Website!</a></li>\n",
       "<li><a class=\"grey-text text-lighten-3\" href=\"/consulting/\">Consulting and Contracting</a></li>\n",
       "<li><a class=\"grey-text text-lighten-3\" href=\"https://www.facebook.com/pythonprogramming.net/\">Facebook</a></li>\n",
       "<li><a class=\"grey-text text-lighten-3\" href=\"https://twitter.com/sentdex\">Twitter</a></li>\n",
       "<li><a class=\"grey-text text-lighten-3\" href=\"https://instagram.com/sentdex\">Instagram</a></li>\n",
       "</ul>\n",
       "</div>\n",
       "<div class=\"col l4 offset-l2 s12\">\n",
       "<h6 class=\"white-text\">Legal stuff:</h6>\n",
       "<ul>\n",
       "<li><a class=\"grey-text text-lighten-3\" href=\"/about/tos/\">Terms and Conditions</a></li>\n",
       "<li><a class=\"grey-text text-lighten-3\" href=\"/about/privacy-policy/\">Privacy Policy</a></li>\n",
       "</ul>\n",
       "</div>\n",
       "</div>\n",
       "</div>\n",
       "<a href=\"https://xkcd.com/353/\" target=\"blank\"><p class=\"grey-text right\" style=\"padding-right:10px\">Programming is a superpower.</p></a>\n",
       "<div class=\"footer-copyright\">\n",
       "<div class=\"container\">\n",
       "            © OVER 9000! PythonProgramming.net\n",
       "\n",
       "            </div>\n",
       "</div>\n",
       "</footer>\n",
       "</html>"
      ]
     },
     "execution_count": 2,
     "metadata": {},
     "output_type": "execute_result"
    }
   ],
   "source": [
    "soup"
   ]
  },
  {
   "cell_type": "markdown",
   "metadata": {},
   "source": [
    "> We see that the element of class jstest actually contains the text 'y u bad tho?' then a JavaScript script is then run to turn the text into 'Look at you shinin!'. The BeautifulSoup library not being able to process the\n",
    "> JavaScript, it recovers the untransformed text.\n",
    "> \n",
    "> Let's now try to retrieve the text using the Selenium library.\n",
    ">\n",
    "- **Run the next cell.**"
   ]
  },
  {
   "cell_type": "code",
   "execution_count": 4,
   "metadata": {},
   "outputs": [
    {
     "name": "stdout",
     "output_type": "stream",
     "text": [
      "Collecting selenium\n",
      "  Obtaining dependency information for selenium from https://files.pythonhosted.org/packages/dc/72/96b5afa16908f9abc7c24b70adfd3a46c9740eb728ddfeab28379e38eaf9/selenium-4.16.0-py3-none-any.whl.metadata\n",
      "  Using cached selenium-4.16.0-py3-none-any.whl.metadata (6.9 kB)\n",
      "Requirement already satisfied: urllib3[socks]<3,>=1.26 in c:\\users\\hp\\appdata\\local\\programs\\python\\python312\\lib\\site-packages (from selenium) (2.0.7)\n",
      "Collecting trio~=0.17 (from selenium)\n",
      "  Obtaining dependency information for trio~=0.17 from https://files.pythonhosted.org/packages/3e/14/746bb2b403af4be680ca0ae240d62473c4ec3b836024c2e85f27856d7991/trio-0.23.2-py3-none-any.whl.metadata\n",
      "  Using cached trio-0.23.2-py3-none-any.whl.metadata (4.9 kB)\n",
      "Collecting trio-websocket~=0.9 (from selenium)\n",
      "  Obtaining dependency information for trio-websocket~=0.9 from https://files.pythonhosted.org/packages/48/be/a9ae5f50cad5b6f85bd2574c2c923730098530096e170c1ce7452394d7aa/trio_websocket-0.11.1-py3-none-any.whl.metadata\n",
      "  Using cached trio_websocket-0.11.1-py3-none-any.whl.metadata (4.7 kB)\n",
      "Requirement already satisfied: certifi>=2021.10.8 in c:\\users\\hp\\appdata\\local\\programs\\python\\python312\\lib\\site-packages (from selenium) (2023.7.22)\n",
      "Collecting attrs>=20.1.0 (from trio~=0.17->selenium)\n",
      "  Downloading attrs-23.1.0-py3-none-any.whl (61 kB)\n",
      "     ---------------------------------------- 0.0/61.2 kB ? eta -:--:--\n",
      "     ------ --------------------------------- 10.2/61.2 kB ? eta -:--:--\n",
      "     ------------ ------------------------- 20.5/61.2 kB 682.7 kB/s eta 0:00:01\n",
      "     ------------------------- ------------ 41.0/61.2 kB 326.8 kB/s eta 0:00:01\n",
      "     -------------------------------------- 61.2/61.2 kB 407.4 kB/s eta 0:00:00\n",
      "Collecting sortedcontainers (from trio~=0.17->selenium)\n",
      "  Downloading sortedcontainers-2.4.0-py2.py3-none-any.whl (29 kB)\n",
      "Requirement already satisfied: idna in c:\\users\\hp\\appdata\\local\\programs\\python\\python312\\lib\\site-packages (from trio~=0.17->selenium) (3.4)\n",
      "Collecting outcome (from trio~=0.17->selenium)\n",
      "  Obtaining dependency information for outcome from https://files.pythonhosted.org/packages/55/8b/5ab7257531a5d830fc8000c476e63c935488d74609b50f9384a643ec0a62/outcome-1.3.0.post0-py2.py3-none-any.whl.metadata\n",
      "  Using cached outcome-1.3.0.post0-py2.py3-none-any.whl.metadata (2.6 kB)\n",
      "Collecting sniffio>=1.3.0 (from trio~=0.17->selenium)\n",
      "  Using cached sniffio-1.3.0-py3-none-any.whl (10 kB)\n",
      "Collecting cffi>=1.14 (from trio~=0.17->selenium)\n",
      "  Obtaining dependency information for cffi>=1.14 from https://files.pythonhosted.org/packages/e9/63/e285470a4880a4f36edabe4810057bd4b562c6ddcc165eacf9c3c7210b40/cffi-1.16.0-cp312-cp312-win_amd64.whl.metadata\n",
      "  Downloading cffi-1.16.0-cp312-cp312-win_amd64.whl.metadata (1.5 kB)\n",
      "Collecting wsproto>=0.14 (from trio-websocket~=0.9->selenium)\n",
      "  Using cached wsproto-1.2.0-py3-none-any.whl (24 kB)\n",
      "Collecting pysocks!=1.5.7,<2.0,>=1.5.6 (from urllib3[socks]<3,>=1.26->selenium)\n",
      "  Downloading PySocks-1.7.1-py3-none-any.whl (16 kB)\n",
      "Collecting pycparser (from cffi>=1.14->trio~=0.17->selenium)\n",
      "  Downloading pycparser-2.21-py2.py3-none-any.whl (118 kB)\n",
      "     ---------------------------------------- 0.0/118.7 kB ? eta -:--:--\n",
      "     -------------------------------------- 118.7/118.7 kB 6.8 MB/s eta 0:00:00\n",
      "Collecting h11<1,>=0.9.0 (from wsproto>=0.14->trio-websocket~=0.9->selenium)\n",
      "  Using cached h11-0.14.0-py3-none-any.whl (58 kB)\n",
      "Using cached selenium-4.16.0-py3-none-any.whl (10.0 MB)\n",
      "Using cached trio-0.23.2-py3-none-any.whl (461 kB)\n",
      "Using cached trio_websocket-0.11.1-py3-none-any.whl (17 kB)\n",
      "Downloading cffi-1.16.0-cp312-cp312-win_amd64.whl (181 kB)\n",
      "   ---------------------------------------- 0.0/182.0 kB ? eta -:--:--\n",
      "   --------------------------------------- 182.0/182.0 kB 11.4 MB/s eta 0:00:00\n",
      "Using cached outcome-1.3.0.post0-py2.py3-none-any.whl (10 kB)\n",
      "Installing collected packages: sortedcontainers, sniffio, pysocks, pycparser, h11, attrs, wsproto, outcome, cffi, trio, trio-websocket, selenium\n",
      "Successfully installed attrs-23.1.0 cffi-1.16.0 h11-0.14.0 outcome-1.3.0.post0 pycparser-2.21 pysocks-1.7.1 selenium-4.16.0 sniffio-1.3.0 sortedcontainers-2.4.0 trio-0.23.2 trio-websocket-0.11.1 wsproto-1.2.0\n",
      "Note: you may need to restart the kernel to use updated packages.\n"
     ]
    },
    {
     "name": "stderr",
     "output_type": "stream",
     "text": [
      "\n",
      "[notice] A new release of pip is available: 23.2.1 -> 23.3.2\n",
      "[notice] To update, run: python.exe -m pip install --upgrade pip\n"
     ]
    }
   ],
   "source": [
    "%pip install selenium"
   ]
  },
  {
   "cell_type": "code",
   "execution_count": 6,
   "metadata": {},
   "outputs": [
    {
     "name": "stdout",
     "output_type": "stream",
     "text": [
      "Collecting webdriver_manager\n",
      "  Obtaining dependency information for webdriver_manager from https://files.pythonhosted.org/packages/b1/51/b5c11cf739ac4eecde611794a0ec9df420d0239d51e73bc19eb44f02b48b/webdriver_manager-4.0.1-py2.py3-none-any.whl.metadata\n",
      "  Downloading webdriver_manager-4.0.1-py2.py3-none-any.whl.metadata (12 kB)\n",
      "Requirement already satisfied: requests in c:\\users\\hp\\appdata\\local\\programs\\python\\python312\\lib\\site-packages (from webdriver_manager) (2.31.0)\n",
      "Collecting python-dotenv (from webdriver_manager)\n",
      "  Downloading python_dotenv-1.0.0-py3-none-any.whl (19 kB)\n",
      "Requirement already satisfied: packaging in c:\\users\\hp\\appdata\\roaming\\python\\python312\\site-packages (from webdriver_manager) (23.2)\n",
      "Requirement already satisfied: charset-normalizer<4,>=2 in c:\\users\\hp\\appdata\\local\\programs\\python\\python312\\lib\\site-packages (from requests->webdriver_manager) (3.3.2)\n",
      "Requirement already satisfied: idna<4,>=2.5 in c:\\users\\hp\\appdata\\local\\programs\\python\\python312\\lib\\site-packages (from requests->webdriver_manager) (3.4)\n",
      "Requirement already satisfied: urllib3<3,>=1.21.1 in c:\\users\\hp\\appdata\\local\\programs\\python\\python312\\lib\\site-packages (from requests->webdriver_manager) (2.0.7)\n",
      "Requirement already satisfied: certifi>=2017.4.17 in c:\\users\\hp\\appdata\\local\\programs\\python\\python312\\lib\\site-packages (from requests->webdriver_manager) (2023.7.22)\n",
      "Downloading webdriver_manager-4.0.1-py2.py3-none-any.whl (27 kB)\n",
      "Installing collected packages: python-dotenv, webdriver_manager\n",
      "Successfully installed python-dotenv-1.0.0 webdriver_manager-4.0.1\n",
      "Note: you may need to restart the kernel to use updated packages.\n"
     ]
    },
    {
     "name": "stderr",
     "output_type": "stream",
     "text": [
      "  WARNING: The script dotenv.exe is installed in 'c:\\Users\\hp\\AppData\\Local\\Programs\\Python\\Python312\\Scripts' which is not on PATH.\n",
      "  Consider adding this directory to PATH or, if you prefer to suppress this warning, use --no-warn-script-location.\n",
      "\n",
      "[notice] A new release of pip is available: 23.2.1 -> 23.3.2\n",
      "[notice] To update, run: python.exe -m pip install --upgrade pip\n"
     ]
    }
   ],
   "source": [
    "%pip install webdriver_manager"
   ]
  },
  {
   "cell_type": "code",
   "execution_count": 7,
   "metadata": {},
   "outputs": [
    {
     "data": {
      "text/plain": [
       "'Look at you shinin!'"
      ]
     },
     "execution_count": 7,
     "metadata": {},
     "output_type": "execute_result"
    }
   ],
   "source": [
    "from selenium import webdriver\n",
    "from webdriver_manager.chrome import ChromeDriverManager\n",
    "import warnings\n",
    "warnings.filterwarnings(\"ignore\")\n",
    "\n",
    "try:\n",
    "    driver = webdriver.Chrome()\n",
    "except:\n",
    "    driver = webdriver.Chrome(ChromeDriverManager(version=\"114.0.5735.90\").install()) \n",
    "driver.get('https://pythonprogramming.net/parsememcparseface/')\n",
    "driver.find_element(by='class name', value='jstest').text"
   ]
  },
  {
   "cell_type": "markdown",
   "metadata": {},
   "source": [
    "> The text has now been successfully retrieved.\n",
    ">\n",
    "> This simple example shows the limitations of BeautfiulSoup against websites using JavaScript."
   ]
  },
  {
   "cell_type": "markdown",
   "metadata": {},
   "source": [
    "### Identification of an element on a web page \n",
    "\n",
    "Webscraping with Selenium consists of controlling a browser automatically and performing actions comparable to those of a classic user in front of his screen. The approach to adopt is therefore always the same:\n",
    "\n",
    "- identify an element on the web page\n",
    "- interact with an element\n",
    "- retrieve interesting information\n",
    "\n",
    "The objective of this Notebook will be to understand the essential methods for identifying elements on a Web page."
   ]
  },
  {
   "cell_type": "markdown",
   "metadata": {},
   "source": [
    "- **Execute the following cell to hide the warnings and import the necessary packages.**"
   ]
  },
  {
   "cell_type": "code",
   "execution_count": 5,
   "metadata": {},
   "outputs": [
    {
     "name": "stdout",
     "output_type": "stream",
     "text": [
      "Requirement already satisfied: selenium in c:\\users\\hp\\appdata\\local\\programs\\python\\python312\\lib\\site-packages (4.16.0)\n",
      "Requirement already satisfied: urllib3[socks]<3,>=1.26 in c:\\users\\hp\\appdata\\local\\programs\\python\\python312\\lib\\site-packages (from selenium) (2.0.7)\n",
      "Requirement already satisfied: trio~=0.17 in c:\\users\\hp\\appdata\\local\\programs\\python\\python312\\lib\\site-packages (from selenium) (0.23.2)\n",
      "Requirement already satisfied: trio-websocket~=0.9 in c:\\users\\hp\\appdata\\local\\programs\\python\\python312\\lib\\site-packages (from selenium) (0.11.1)\n",
      "Requirement already satisfied: certifi>=2021.10.8 in c:\\users\\hp\\appdata\\local\\programs\\python\\python312\\lib\\site-packages (from selenium) (2023.7.22)\n",
      "Requirement already satisfied: attrs>=20.1.0 in c:\\users\\hp\\appdata\\local\\programs\\python\\python312\\lib\\site-packages (from trio~=0.17->selenium) (23.1.0)\n",
      "Requirement already satisfied: sortedcontainers in c:\\users\\hp\\appdata\\local\\programs\\python\\python312\\lib\\site-packages (from trio~=0.17->selenium) (2.4.0)\n",
      "Requirement already satisfied: idna in c:\\users\\hp\\appdata\\local\\programs\\python\\python312\\lib\\site-packages (from trio~=0.17->selenium) (3.4)\n",
      "Requirement already satisfied: outcome in c:\\users\\hp\\appdata\\local\\programs\\python\\python312\\lib\\site-packages (from trio~=0.17->selenium) (1.3.0.post0)\n",
      "Requirement already satisfied: sniffio>=1.3.0 in c:\\users\\hp\\appdata\\local\\programs\\python\\python312\\lib\\site-packages (from trio~=0.17->selenium) (1.3.0)\n",
      "Requirement already satisfied: cffi>=1.14 in c:\\users\\hp\\appdata\\local\\programs\\python\\python312\\lib\\site-packages (from trio~=0.17->selenium) (1.16.0)\n",
      "Requirement already satisfied: wsproto>=0.14 in c:\\users\\hp\\appdata\\local\\programs\\python\\python312\\lib\\site-packages (from trio-websocket~=0.9->selenium) (1.2.0)\n",
      "Requirement already satisfied: pysocks!=1.5.7,<2.0,>=1.5.6 in c:\\users\\hp\\appdata\\local\\programs\\python\\python312\\lib\\site-packages (from urllib3[socks]<3,>=1.26->selenium) (1.7.1)\n",
      "Requirement already satisfied: pycparser in c:\\users\\hp\\appdata\\local\\programs\\python\\python312\\lib\\site-packages (from cffi>=1.14->trio~=0.17->selenium) (2.21)\n",
      "Requirement already satisfied: h11<1,>=0.9.0 in c:\\users\\hp\\appdata\\local\\programs\\python\\python312\\lib\\site-packages (from wsproto>=0.14->trio-websocket~=0.9->selenium) (0.14.0)\n",
      "Note: you may need to restart the kernel to use updated packages.\n"
     ]
    },
    {
     "name": "stderr",
     "output_type": "stream",
     "text": [
      "\n",
      "[notice] A new release of pip is available: 23.2.1 -> 23.3.2\n",
      "[notice] To update, run: python.exe -m pip install --upgrade pip\n"
     ]
    }
   ],
   "source": [
    "%pip install selenium"
   ]
  },
  {
   "cell_type": "code",
   "execution_count": 7,
   "metadata": {},
   "outputs": [],
   "source": [
    "import warnings\n",
    "warnings.filterwarnings(\"ignore\")\n",
    "from selenium import webdriver\n",
    "from selenium.webdriver.common.keys import Keys\n",
    "from webdriver_manager.chrome import ChromeDriverManager\n"
   ]
  },
  {
   "cell_type": "markdown",
   "metadata": {},
   "source": [
    "> The first step is to create an instance of a WebDriver, which will allow us to perform our operations on the website to be scraped. The Chrome(), Firefox(), Edge() and Safari() methods of the webdriver object allow the initialization of a WebDriver Chrome, Firefox, Edge and Safari respectively."
   ]
  },
  {
   "cell_type": "markdown",
   "metadata": {},
   "source": [
    "- **(a) Create a driver instance of aChrome Webdriver.**\n",
    "\n",
    ">  If the command does not find the driver you downloaded, use the following command : `webdriver.Chrome(ChromeDriverManager().install())`."
   ]
  },
  {
   "cell_type": "code",
   "execution_count": 10,
   "metadata": {},
   "outputs": [],
   "source": [
    "driver = webdriver.Chrome()"
   ]
  },
  {
   "cell_type": "code",
   "execution_count": 11,
   "metadata": {},
   "outputs": [],
   "source": [
    "try:\n",
    "    driver = webdriver.Chrome()\n",
    "except:\n",
    "    driver = webdriver.Chrome(ChromeDriverManager(version=\"114.0.5735.90\").install())"
   ]
  },
  {
   "cell_type": "markdown",
   "metadata": {},
   "source": []
  },
  {
   "cell_type": "markdown",
   "metadata": {},
   "source": [
    "This operation is supposed to open an empty Chrome window, as in the image below.\n",
    "\n",
    "Once the WebDriver has been built, the procedure to follow is the same as if you were a standard user. To access the website to be scraped, you must enter the address using the get() method of the driver object. The objective will be to retrieve information on the Football World Cup 2018.\n",
    "\n",
    "- **(b) Go to the following Wikipedia page : https://en.wikipedia.org/wiki/2018_FIFA_World_Cup**"
   ]
  },
  {
   "cell_type": "code",
   "execution_count": 12,
   "metadata": {},
   "outputs": [],
   "source": [
    "driver.get(\"https://en.wikipedia.org/wiki/2018_FIFA_World_Cup\") "
   ]
  },
  {
   "cell_type": "markdown",
   "metadata": {},
   "source": [
    "This operation is supposed to load the World Cup 2018 Wikipedia page, as in the image below.\n",
    "\n",
    "Once the target Web page is reached, we can `identify the elements` of the Web page to extract information from them or to interact with them.\n",
    "\n",
    "To find an element, we use the `find_element` method which requires 2 parameters:\n",
    "\n",
    "- **by:** parameter indicating how to access the element. This parameter can take several values:\n",
    "  - `id` to identify a web element by its id.\n",
    "  - `name` to identify a web element by its name.\n",
    "  - `class name` to identify a Web element thanks to its class.\n",
    "  - `link text` to identify a Web element thanks to the hyperlink attached to it.\n",
    "  - `xpath` to identify a Web element using the XPath language, used to find nodes in an XML document. This method is very effective when it is not possible to locate an element by its id or its name.\n",
    "- **value:** parameter indicating the value to identify\n",
    "\n",
    "This method returns a WebElement type object whose click() method allows you to click on the element. It also exists in the plural (find_elements) and in this case returns the list of all the matching elements."
   ]
  },
  {
   "cell_type": "code",
   "execution_count": 13,
   "metadata": {},
   "outputs": [
    {
     "data": {
      "text/plain": [
       "'From Wikipedia, the free encyclopedia'"
      ]
     },
     "execution_count": 13,
     "metadata": {},
     "output_type": "execute_result"
    }
   ],
   "source": [
    "webelement = driver.find_element(by='id', value='siteSub')\n",
    "\n",
    "# Get the text of the element\n",
    "webelement.text\n"
   ]
  },
  {
   "cell_type": "markdown",
   "metadata": {},
   "source": [
    "- (e) Search for the Main Page element on the left by identifying it by its link and store it in a webelement variable.\n",
    "- (f) Click on the element thanks to a line of code using the click() method."
   ]
  },
  {
   "cell_type": "code",
   "execution_count": 14,
   "metadata": {},
   "outputs": [
    {
     "ename": "NoSuchElementException",
     "evalue": "Message: no such element: Unable to locate element: {\"method\":\"link text\",\"selector\":\"Main page\"}\n  (Session info: chrome=120.0.6099.110); For documentation on this error, please visit: https://www.selenium.dev/documentation/webdriver/troubleshooting/errors#no-such-element-exception\nStacktrace:\n\tGetHandleVerifier [0x00007FF6BC512142+3514994]\n\t(No symbol) [0x00007FF6BC130CE2]\n\t(No symbol) [0x00007FF6BBFD76AA]\n\t(No symbol) [0x00007FF6BC021860]\n\t(No symbol) [0x00007FF6BC02197C]\n\t(No symbol) [0x00007FF6BC064EE7]\n\t(No symbol) [0x00007FF6BC04602F]\n\t(No symbol) [0x00007FF6BC0628F6]\n\t(No symbol) [0x00007FF6BC045D93]\n\t(No symbol) [0x00007FF6BC014BDC]\n\t(No symbol) [0x00007FF6BC015C64]\n\tGetHandleVerifier [0x00007FF6BC53E16B+3695259]\n\tGetHandleVerifier [0x00007FF6BC596737+4057191]\n\tGetHandleVerifier [0x00007FF6BC58E4E3+4023827]\n\tGetHandleVerifier [0x00007FF6BC2604F9+689705]\n\t(No symbol) [0x00007FF6BC13C048]\n\t(No symbol) [0x00007FF6BC138044]\n\t(No symbol) [0x00007FF6BC1381C9]\n\t(No symbol) [0x00007FF6BC1288C4]\n\tBaseThreadInitThunk [0x00007FFE979E257D+29]\n\tRtlUserThreadStart [0x00007FFE98CEAA58+40]\n",
     "output_type": "error",
     "traceback": [
      "\u001b[1;31m---------------------------------------------------------------------------\u001b[0m",
      "\u001b[1;31mNoSuchElementException\u001b[0m                    Traceback (most recent call last)",
      "Cell \u001b[1;32mIn[14], line 1\u001b[0m\n\u001b[1;32m----> 1\u001b[0m webelement \u001b[38;5;241m=\u001b[39m \u001b[43mdriver\u001b[49m\u001b[38;5;241;43m.\u001b[39;49m\u001b[43mfind_element\u001b[49m\u001b[43m(\u001b[49m\u001b[43mby\u001b[49m\u001b[38;5;241;43m=\u001b[39;49m\u001b[38;5;124;43m'\u001b[39;49m\u001b[38;5;124;43mlink text\u001b[39;49m\u001b[38;5;124;43m'\u001b[39;49m\u001b[43m,\u001b[49m\u001b[43m \u001b[49m\u001b[43mvalue\u001b[49m\u001b[38;5;241;43m=\u001b[39;49m\u001b[38;5;124;43m'\u001b[39;49m\u001b[38;5;124;43mMain page\u001b[39;49m\u001b[38;5;124;43m'\u001b[39;49m\u001b[43m)\u001b[49m\n\u001b[0;32m      3\u001b[0m \u001b[38;5;66;03m# Click on the element\u001b[39;00m\n\u001b[0;32m      4\u001b[0m webelement\u001b[38;5;241m.\u001b[39mclick()\n",
      "File \u001b[1;32mc:\\Users\\hp\\AppData\\Local\\Programs\\Python\\Python312\\Lib\\site-packages\\selenium\\webdriver\\remote\\webdriver.py:742\u001b[0m, in \u001b[0;36mWebDriver.find_element\u001b[1;34m(self, by, value)\u001b[0m\n\u001b[0;32m    739\u001b[0m     by \u001b[38;5;241m=\u001b[39m By\u001b[38;5;241m.\u001b[39mCSS_SELECTOR\n\u001b[0;32m    740\u001b[0m     value \u001b[38;5;241m=\u001b[39m \u001b[38;5;124mf\u001b[39m\u001b[38;5;124m'\u001b[39m\u001b[38;5;124m[name=\u001b[39m\u001b[38;5;124m\"\u001b[39m\u001b[38;5;132;01m{\u001b[39;00mvalue\u001b[38;5;132;01m}\u001b[39;00m\u001b[38;5;124m\"\u001b[39m\u001b[38;5;124m]\u001b[39m\u001b[38;5;124m'\u001b[39m\n\u001b[1;32m--> 742\u001b[0m \u001b[38;5;28;01mreturn\u001b[39;00m \u001b[38;5;28;43mself\u001b[39;49m\u001b[38;5;241;43m.\u001b[39;49m\u001b[43mexecute\u001b[49m\u001b[43m(\u001b[49m\u001b[43mCommand\u001b[49m\u001b[38;5;241;43m.\u001b[39;49m\u001b[43mFIND_ELEMENT\u001b[49m\u001b[43m,\u001b[49m\u001b[43m \u001b[49m\u001b[43m{\u001b[49m\u001b[38;5;124;43m\"\u001b[39;49m\u001b[38;5;124;43musing\u001b[39;49m\u001b[38;5;124;43m\"\u001b[39;49m\u001b[43m:\u001b[49m\u001b[43m \u001b[49m\u001b[43mby\u001b[49m\u001b[43m,\u001b[49m\u001b[43m \u001b[49m\u001b[38;5;124;43m\"\u001b[39;49m\u001b[38;5;124;43mvalue\u001b[39;49m\u001b[38;5;124;43m\"\u001b[39;49m\u001b[43m:\u001b[49m\u001b[43m \u001b[49m\u001b[43mvalue\u001b[49m\u001b[43m}\u001b[49m\u001b[43m)\u001b[49m[\u001b[38;5;124m\"\u001b[39m\u001b[38;5;124mvalue\u001b[39m\u001b[38;5;124m\"\u001b[39m]\n",
      "File \u001b[1;32mc:\\Users\\hp\\AppData\\Local\\Programs\\Python\\Python312\\Lib\\site-packages\\selenium\\webdriver\\remote\\webdriver.py:348\u001b[0m, in \u001b[0;36mWebDriver.execute\u001b[1;34m(self, driver_command, params)\u001b[0m\n\u001b[0;32m    346\u001b[0m response \u001b[38;5;241m=\u001b[39m \u001b[38;5;28mself\u001b[39m\u001b[38;5;241m.\u001b[39mcommand_executor\u001b[38;5;241m.\u001b[39mexecute(driver_command, params)\n\u001b[0;32m    347\u001b[0m \u001b[38;5;28;01mif\u001b[39;00m response:\n\u001b[1;32m--> 348\u001b[0m     \u001b[38;5;28;43mself\u001b[39;49m\u001b[38;5;241;43m.\u001b[39;49m\u001b[43merror_handler\u001b[49m\u001b[38;5;241;43m.\u001b[39;49m\u001b[43mcheck_response\u001b[49m\u001b[43m(\u001b[49m\u001b[43mresponse\u001b[49m\u001b[43m)\u001b[49m\n\u001b[0;32m    349\u001b[0m     response[\u001b[38;5;124m\"\u001b[39m\u001b[38;5;124mvalue\u001b[39m\u001b[38;5;124m\"\u001b[39m] \u001b[38;5;241m=\u001b[39m \u001b[38;5;28mself\u001b[39m\u001b[38;5;241m.\u001b[39m_unwrap_value(response\u001b[38;5;241m.\u001b[39mget(\u001b[38;5;124m\"\u001b[39m\u001b[38;5;124mvalue\u001b[39m\u001b[38;5;124m\"\u001b[39m, \u001b[38;5;28;01mNone\u001b[39;00m))\n\u001b[0;32m    350\u001b[0m     \u001b[38;5;28;01mreturn\u001b[39;00m response\n",
      "File \u001b[1;32mc:\\Users\\hp\\AppData\\Local\\Programs\\Python\\Python312\\Lib\\site-packages\\selenium\\webdriver\\remote\\errorhandler.py:229\u001b[0m, in \u001b[0;36mErrorHandler.check_response\u001b[1;34m(self, response)\u001b[0m\n\u001b[0;32m    227\u001b[0m         alert_text \u001b[38;5;241m=\u001b[39m value[\u001b[38;5;124m\"\u001b[39m\u001b[38;5;124malert\u001b[39m\u001b[38;5;124m\"\u001b[39m]\u001b[38;5;241m.\u001b[39mget(\u001b[38;5;124m\"\u001b[39m\u001b[38;5;124mtext\u001b[39m\u001b[38;5;124m\"\u001b[39m)\n\u001b[0;32m    228\u001b[0m     \u001b[38;5;28;01mraise\u001b[39;00m exception_class(message, screen, stacktrace, alert_text)  \u001b[38;5;66;03m# type: ignore[call-arg]  # mypy is not smart enough here\u001b[39;00m\n\u001b[1;32m--> 229\u001b[0m \u001b[38;5;28;01mraise\u001b[39;00m exception_class(message, screen, stacktrace)\n",
      "\u001b[1;31mNoSuchElementException\u001b[0m: Message: no such element: Unable to locate element: {\"method\":\"link text\",\"selector\":\"Main page\"}\n  (Session info: chrome=120.0.6099.110); For documentation on this error, please visit: https://www.selenium.dev/documentation/webdriver/troubleshooting/errors#no-such-element-exception\nStacktrace:\n\tGetHandleVerifier [0x00007FF6BC512142+3514994]\n\t(No symbol) [0x00007FF6BC130CE2]\n\t(No symbol) [0x00007FF6BBFD76AA]\n\t(No symbol) [0x00007FF6BC021860]\n\t(No symbol) [0x00007FF6BC02197C]\n\t(No symbol) [0x00007FF6BC064EE7]\n\t(No symbol) [0x00007FF6BC04602F]\n\t(No symbol) [0x00007FF6BC0628F6]\n\t(No symbol) [0x00007FF6BC045D93]\n\t(No symbol) [0x00007FF6BC014BDC]\n\t(No symbol) [0x00007FF6BC015C64]\n\tGetHandleVerifier [0x00007FF6BC53E16B+3695259]\n\tGetHandleVerifier [0x00007FF6BC596737+4057191]\n\tGetHandleVerifier [0x00007FF6BC58E4E3+4023827]\n\tGetHandleVerifier [0x00007FF6BC2604F9+689705]\n\t(No symbol) [0x00007FF6BC13C048]\n\t(No symbol) [0x00007FF6BC138044]\n\t(No symbol) [0x00007FF6BC1381C9]\n\t(No symbol) [0x00007FF6BC1288C4]\n\tBaseThreadInitThunk [0x00007FFE979E257D+29]\n\tRtlUserThreadStart [0x00007FFE98CEAA58+40]\n"
     ]
    }
   ],
   "source": [
    "webelement = driver.find_element(by='link text', value='Main page')\n",
    "\n",
    "# Click on the element\n",
    "webelement.click()"
   ]
  },
  {
   "cell_type": "markdown",
   "metadata": {},
   "source": [
    "(g) Close the WebDriver."
   ]
  },
  {
   "cell_type": "code",
   "execution_count": 15,
   "metadata": {},
   "outputs": [
    {
     "ename": "WebDriverException",
     "evalue": "Message: disconnected: not connected to DevTools\n  (failed to check if window was closed: disconnected: not connected to DevTools)\n  (Session info: chrome=120.0.6099.110)\nStacktrace:\n\tGetHandleVerifier [0x00007FF6BC512142+3514994]\n\t(No symbol) [0x00007FF6BC130CE2]\n\t(No symbol) [0x00007FF6BBFD76AA]\n\t(No symbol) [0x00007FF6BBFBE1E9]\n\t(No symbol) [0x00007FF6BBFBF7CE]\n\t(No symbol) [0x00007FF6BBFD7CC3]\n\t(No symbol) [0x00007FF6BBFB0580]\n\t(No symbol) [0x00007FF6BC053737]\n\t(No symbol) [0x00007FF6BC0534E7]\n\t(No symbol) [0x00007FF6BC045FB0]\n\t(No symbol) [0x00007FF6BC014BDC]\n\t(No symbol) [0x00007FF6BC015C64]\n\tGetHandleVerifier [0x00007FF6BC53E16B+3695259]\n\tGetHandleVerifier [0x00007FF6BC596737+4057191]\n\tGetHandleVerifier [0x00007FF6BC58E4E3+4023827]\n\tGetHandleVerifier [0x00007FF6BC2604F9+689705]\n\t(No symbol) [0x00007FF6BC13C048]\n\t(No symbol) [0x00007FF6BC138044]\n\t(No symbol) [0x00007FF6BC1381C9]\n\t(No symbol) [0x00007FF6BC1288C4]\n\tBaseThreadInitThunk [0x00007FFE979E257D+29]\n\tRtlUserThreadStart [0x00007FFE98CEAA58+40]\n",
     "output_type": "error",
     "traceback": [
      "\u001b[1;31m---------------------------------------------------------------------------\u001b[0m",
      "\u001b[1;31mWebDriverException\u001b[0m                        Traceback (most recent call last)",
      "Cell \u001b[1;32mIn[15], line 1\u001b[0m\n\u001b[1;32m----> 1\u001b[0m \u001b[43mdriver\u001b[49m\u001b[38;5;241;43m.\u001b[39;49m\u001b[43mclose\u001b[49m\u001b[43m(\u001b[49m\u001b[43m)\u001b[49m\n",
      "File \u001b[1;32mc:\\Users\\hp\\AppData\\Local\\Programs\\Python\\Python312\\Lib\\site-packages\\selenium\\webdriver\\remote\\webdriver.py:459\u001b[0m, in \u001b[0;36mWebDriver.close\u001b[1;34m(self)\u001b[0m\n\u001b[0;32m    451\u001b[0m \u001b[38;5;28;01mdef\u001b[39;00m \u001b[38;5;21mclose\u001b[39m(\u001b[38;5;28mself\u001b[39m) \u001b[38;5;241m-\u001b[39m\u001b[38;5;241m>\u001b[39m \u001b[38;5;28;01mNone\u001b[39;00m:\n\u001b[0;32m    452\u001b[0m \u001b[38;5;250m    \u001b[39m\u001b[38;5;124;03m\"\"\"Closes the current window.\u001b[39;00m\n\u001b[0;32m    453\u001b[0m \n\u001b[0;32m    454\u001b[0m \u001b[38;5;124;03m    :Usage:\u001b[39;00m\n\u001b[1;32m   (...)\u001b[0m\n\u001b[0;32m    457\u001b[0m \u001b[38;5;124;03m            driver.close()\u001b[39;00m\n\u001b[0;32m    458\u001b[0m \u001b[38;5;124;03m    \"\"\"\u001b[39;00m\n\u001b[1;32m--> 459\u001b[0m     \u001b[38;5;28;43mself\u001b[39;49m\u001b[38;5;241;43m.\u001b[39;49m\u001b[43mexecute\u001b[49m\u001b[43m(\u001b[49m\u001b[43mCommand\u001b[49m\u001b[38;5;241;43m.\u001b[39;49m\u001b[43mCLOSE\u001b[49m\u001b[43m)\u001b[49m\n",
      "File \u001b[1;32mc:\\Users\\hp\\AppData\\Local\\Programs\\Python\\Python312\\Lib\\site-packages\\selenium\\webdriver\\remote\\webdriver.py:348\u001b[0m, in \u001b[0;36mWebDriver.execute\u001b[1;34m(self, driver_command, params)\u001b[0m\n\u001b[0;32m    346\u001b[0m response \u001b[38;5;241m=\u001b[39m \u001b[38;5;28mself\u001b[39m\u001b[38;5;241m.\u001b[39mcommand_executor\u001b[38;5;241m.\u001b[39mexecute(driver_command, params)\n\u001b[0;32m    347\u001b[0m \u001b[38;5;28;01mif\u001b[39;00m response:\n\u001b[1;32m--> 348\u001b[0m     \u001b[38;5;28;43mself\u001b[39;49m\u001b[38;5;241;43m.\u001b[39;49m\u001b[43merror_handler\u001b[49m\u001b[38;5;241;43m.\u001b[39;49m\u001b[43mcheck_response\u001b[49m\u001b[43m(\u001b[49m\u001b[43mresponse\u001b[49m\u001b[43m)\u001b[49m\n\u001b[0;32m    349\u001b[0m     response[\u001b[38;5;124m\"\u001b[39m\u001b[38;5;124mvalue\u001b[39m\u001b[38;5;124m\"\u001b[39m] \u001b[38;5;241m=\u001b[39m \u001b[38;5;28mself\u001b[39m\u001b[38;5;241m.\u001b[39m_unwrap_value(response\u001b[38;5;241m.\u001b[39mget(\u001b[38;5;124m\"\u001b[39m\u001b[38;5;124mvalue\u001b[39m\u001b[38;5;124m\"\u001b[39m, \u001b[38;5;28;01mNone\u001b[39;00m))\n\u001b[0;32m    350\u001b[0m     \u001b[38;5;28;01mreturn\u001b[39;00m response\n",
      "File \u001b[1;32mc:\\Users\\hp\\AppData\\Local\\Programs\\Python\\Python312\\Lib\\site-packages\\selenium\\webdriver\\remote\\errorhandler.py:229\u001b[0m, in \u001b[0;36mErrorHandler.check_response\u001b[1;34m(self, response)\u001b[0m\n\u001b[0;32m    227\u001b[0m         alert_text \u001b[38;5;241m=\u001b[39m value[\u001b[38;5;124m\"\u001b[39m\u001b[38;5;124malert\u001b[39m\u001b[38;5;124m\"\u001b[39m]\u001b[38;5;241m.\u001b[39mget(\u001b[38;5;124m\"\u001b[39m\u001b[38;5;124mtext\u001b[39m\u001b[38;5;124m\"\u001b[39m)\n\u001b[0;32m    228\u001b[0m     \u001b[38;5;28;01mraise\u001b[39;00m exception_class(message, screen, stacktrace, alert_text)  \u001b[38;5;66;03m# type: ignore[call-arg]  # mypy is not smart enough here\u001b[39;00m\n\u001b[1;32m--> 229\u001b[0m \u001b[38;5;28;01mraise\u001b[39;00m exception_class(message, screen, stacktrace)\n",
      "\u001b[1;31mWebDriverException\u001b[0m: Message: disconnected: not connected to DevTools\n  (failed to check if window was closed: disconnected: not connected to DevTools)\n  (Session info: chrome=120.0.6099.110)\nStacktrace:\n\tGetHandleVerifier [0x00007FF6BC512142+3514994]\n\t(No symbol) [0x00007FF6BC130CE2]\n\t(No symbol) [0x00007FF6BBFD76AA]\n\t(No symbol) [0x00007FF6BBFBE1E9]\n\t(No symbol) [0x00007FF6BBFBF7CE]\n\t(No symbol) [0x00007FF6BBFD7CC3]\n\t(No symbol) [0x00007FF6BBFB0580]\n\t(No symbol) [0x00007FF6BC053737]\n\t(No symbol) [0x00007FF6BC0534E7]\n\t(No symbol) [0x00007FF6BC045FB0]\n\t(No symbol) [0x00007FF6BC014BDC]\n\t(No symbol) [0x00007FF6BC015C64]\n\tGetHandleVerifier [0x00007FF6BC53E16B+3695259]\n\tGetHandleVerifier [0x00007FF6BC596737+4057191]\n\tGetHandleVerifier [0x00007FF6BC58E4E3+4023827]\n\tGetHandleVerifier [0x00007FF6BC2604F9+689705]\n\t(No symbol) [0x00007FF6BC13C048]\n\t(No symbol) [0x00007FF6BC138044]\n\t(No symbol) [0x00007FF6BC1381C9]\n\t(No symbol) [0x00007FF6BC1288C4]\n\tBaseThreadInitThunk [0x00007FFE979E257D+29]\n\tRtlUserThreadStart [0x00007FFE98CEAA58+40]\n"
     ]
    }
   ],
   "source": [
    "driver.close()"
   ]
  },
  {
   "cell_type": "code",
   "execution_count": 16,
   "metadata": {},
   "outputs": [],
   "source": [
    "import warnings\n",
    "warnings.filterwarnings(\"ignore\")\n",
    "from time import sleep\n",
    "from selenium import webdriver\n",
    "from webdriver_manager.chrome import ChromeDriverManager\n",
    "from selenium.webdriver.common.keys import Keys\n",
    "import pandas as pd\n",
    "import re\n",
    "import numpy as np\n"
   ]
  },
  {
   "cell_type": "code",
   "execution_count": null,
   "metadata": {},
   "outputs": [],
   "source": []
  }
 ],
 "metadata": {
  "kernelspec": {
   "display_name": "Python 3",
   "language": "python",
   "name": "python3"
  },
  "language_info": {
   "codemirror_mode": {
    "name": "ipython",
    "version": 3
   },
   "file_extension": ".py",
   "mimetype": "text/x-python",
   "name": "python",
   "nbconvert_exporter": "python",
   "pygments_lexer": "ipython3",
   "version": "3.12.0"
  }
 },
 "nbformat": 4,
 "nbformat_minor": 2
}
